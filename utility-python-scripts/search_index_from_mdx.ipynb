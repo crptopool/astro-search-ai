{
 "cells": [
  {
   "cell_type": "code",
   "execution_count": null,
   "id": "22a82579",
   "metadata": {},
   "outputs": [],
   "source": [
    "from pathlib import Path\n",
    "import frontmatter\n",
    "import json\n",
    "\n",
    "# Directory containing the Surah MDX files\n",
    "surah_dir = Path(\"../astro-quran/src/content/docs/surahs\")\n",
    "\n",
    "# List to hold entries for search index\n",
    "index = []\n",
    "\n",
    "# Loop through MDX files and extract searchable content\n",
    "for mdx_file in sorted(surah_dir.glob(\"surah-*.mdx\")):\n",
    "    surah_number = mdx_file.stem.split(\"-\")[1]\n",
    "    with open(mdx_file, \"r\", encoding=\"utf-8\") as f:\n",
    "        post = frontmatter.load(f)\n",
    "        body = post.content\n",
    "        title = f\"Surah {surah_number}\"\n",
    "        index.append({\n",
    "            \"id\": surah_number,\n",
    "            \"title\": title,\n",
    "            \"content\": body.strip()\n",
    "        })\n",
    "\n",
    "# Save the index to a JSON file\n",
    "output_path = Path(\"../astro-quran/public/flexsearch-index.json\")\n",
    "output_path.parent.mkdir(parents=True, exist_ok=True)\n",
    "with open(output_path, \"w\", encoding=\"utf-8\") as f:\n",
    "    json.dump(index, f, ensure_ascii=False, indent=2)\n",
    "\n",
    "index[:2]  # Preview first 2 entries for verification\n"
   ]
  }
 ],
 "metadata": {
  "language_info": {
   "name": "python"
  }
 },
 "nbformat": 4,
 "nbformat_minor": 5
}
