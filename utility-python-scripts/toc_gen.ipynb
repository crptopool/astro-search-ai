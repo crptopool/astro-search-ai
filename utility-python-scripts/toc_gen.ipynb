{
 "cells": [
  {
   "cell_type": "code",
   "execution_count": 4,
   "id": "b67fd697",
   "metadata": {},
   "outputs": [
    {
     "data": {
      "text/plain": [
       "'surah_list.json'"
      ]
     },
     "execution_count": 4,
     "metadata": {},
     "output_type": "execute_result"
    }
   ],
   "source": [
    "import sqlite3\n",
    "import json\n",
    "from pathlib import Path\n",
    "\n",
    "# Setup\n",
    "db_path = Path(\"quran_translations.db\")\n",
    "json_output_path = Path(\"toc/surah_list.json\")\n",
    "\n",
    "# Connect to DB\n",
    "conn = sqlite3.connect(db_path)\n",
    "cursor = conn.cursor()\n",
    "\n",
    "# Try to detect table with relevant columns\n",
    "tables = cursor.execute(\"SELECT name FROM sqlite_master WHERE type='table';\").fetchall()\n",
    "tables = [t[0] for t in tables]\n",
    "\n",
    "# Try to find a matching table\n",
    "target_table = None\n",
    "for table in tables:\n",
    "    cols = [col[1] for col in cursor.execute(f\"PRAGMA table_info({table})\")]\n",
    "    if {'surah_no', 'surah_name_ar', 'surah_name_roman', 'surah_name_en'}.issubset(set(cols)):\n",
    "        target_table = table\n",
    "        break\n",
    "\n",
    "if not target_table:\n",
    "    conn.close()\n",
    "    raise ValueError(\"Could not find a table with required columns.\")\n",
    "\n",
    "# Fetch data\n",
    "cursor.execute(f\"SELECT surah_no, surah_name_ar, surah_name_roman, surah_name_en FROM {target_table}\")\n",
    "rows = cursor.fetchall()\n",
    "\n",
    "# Create list of dicts\n",
    "surah_data = [\n",
    "    {\n",
    "        \"surah_no\": row[0],\n",
    "        \"surah_name_ar\": row[1],\n",
    "        \"surah_name_roman\": row[2],\n",
    "        \"surah_name_en\": row[3]\n",
    "    }\n",
    "    for row in rows\n",
    "]\n",
    "\n",
    "# Ensure output directory exists\n",
    "json_output_path.parent.mkdir(parents=True, exist_ok=True)\n",
    "\n",
    "# Write JSON\n",
    "with open(json_output_path, \"w\", encoding=\"utf-8\") as f:\n",
    "    json.dump(surah_data, f, ensure_ascii=False, indent=2)\n",
    "\n",
    "# Cleanup\n",
    "conn.close()\n",
    "\n",
    "# Return relative path\n",
    "json_output_path.name\n"
   ]
  }
 ],
 "metadata": {
  "kernelspec": {
   "display_name": "venv",
   "language": "python",
   "name": "python3"
  },
  "language_info": {
   "codemirror_mode": {
    "name": "ipython",
    "version": 3
   },
   "file_extension": ".py",
   "mimetype": "text/x-python",
   "name": "python",
   "nbconvert_exporter": "python",
   "pygments_lexer": "ipython3",
   "version": "3.12.8"
  }
 },
 "nbformat": 4,
 "nbformat_minor": 5
}
