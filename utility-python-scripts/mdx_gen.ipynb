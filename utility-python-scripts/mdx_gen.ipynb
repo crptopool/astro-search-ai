{
 "cells": [
  {
   "cell_type": "code",
   "execution_count": 4,
   "metadata": {},
   "outputs": [
    {
     "name": "stdout",
     "output_type": "stream",
     "text": [
      "Available tables in the database: ['sqlite_sequence', 'directus_migrations', 'directus_folders', 'directus_relations', 'directus_files', 'directus_fields', 'directus_operations', 'directus_notifications', 'directus_translations', 'directus_shares', 'directus_versions', 'directus_revisions', 'directus_users', 'directus_extensions', 'directus_sessions', 'directus_webhooks', 'directus_settings', 'directus_policies', 'directus_permissions', 'directus_access', 'directus_collections', 'directus_dashboards', 'directus_flows', 'directus_panels', 'directus_presets', 'directus_roles', 'directus_comments', 'directus_activity', 'TheNobleQuran']\n"
     ]
    }
   ],
   "source": [
    " \n",
    "import pandas as pd\n",
    "from pathlib import Path\n",
    "import sqlite3\n",
    "\n",
    "# Load the uploaded SQLite database\n",
    "db_path = \"../directus-quran/Quran_111.db\"\n",
    "conn = sqlite3.connect(db_path)\n",
    "\n",
    "# Verify table names\n",
    "table_query = \"SELECT name FROM sqlite_master WHERE type='table';\"\n",
    "tables = pd.read_sql_query(table_query, conn)\n",
    "\n",
    "# Debug: Print available tables\n",
    "print(\"Available tables in the database:\", tables[\"name\"].tolist())\n",
    "\n",
    "# Read the data only if the table exists\n",
    "if \"TheNobleQuran\" in tables[\"name\"].tolist():\n",
    "    query = \"\"\"\n",
    "    SELECT sura_no, sura_name_en, sura_name_roman, ayah_no_surah, ayah_no_quran, ayah_translation_en\n",
    "    FROM TheNobleQuran\n",
    "    ORDER BY sura_no, CAST(ayah_no_surah AS INTEGER)\n",
    "    \"\"\"\n",
    "    df = pd.read_sql_query(query, conn)\n",
    "elif not tables.empty:\n",
    "    conn.close()\n",
    "    raise ValueError(f\"Table 'TheNobleQuran' does not exist. Available tables: {tables['name'].tolist()}\")\n",
    "else:\n",
    "    conn.close()\n",
    "    raise ValueError(\"No tables exist in the database. Please check the database file.\")\n",
    "\n",
    "conn.close()\n",
    "\n",
    "# Group by surah and create .mdx content\n",
    "# Group by surah and create .mdx content\n",
    "mdx_files = {}\n",
    "for surah_no, group in df.groupby(\"sura_no\"):\n",
    "    surah_name_en = group[\"sura_name_en\"].iloc[0]\n",
    "    surah_name_roman = group[\"sura_name_roman\"].iloc[0]\n",
    "    \n",
    "    # Sort the group by verse number to ensure correct order\n",
    "    # group = group.sort_values('ayah_no_surah')\n",
    "    \n",
    "    # Create proper frontmatter with --- on separate lines\n",
    "    content = \"---\\n\"\n",
    "    content += f\"title: Surah {surah_no} - {surah_name_en} ({surah_name_roman})\\n\"\n",
    "    content += f\"description: Translation of Surah {surah_no} - {surah_name_en} ({surah_name_roman})\\n\"\n",
    "    content += \"---\\n\\n\"\n",
    "    \n",
    "    # Add heading and content\n",
    "    # content += f\"# Surah {surah_no}: {surah_name_en} ({surah_name_roman})\\n\\n\"\n",
    "    for _, row in group.iterrows():\n",
    "        content += f\"**{row['ayah_no_surah']}.** {row['ayah_translation_en']}\\n\\n\"\n",
    "    \n",
    "    # Pad surah number with leading zeros for correct sorting (e.g., 001, 002, ..., 114)\n",
    "    filename = f\"surah-{str(surah_no).zfill(3)}.mdx\"\n",
    "    mdx_files[filename] = content\n",
    "\n",
    "# Save .mdx files to a downloadable zip\n",
    "output_dir = Path(\"../astro-quran/src/content/docs/surahs\")\n",
    "output_dir.mkdir(exist_ok=True)\n",
    "\n",
    "for filename, content in mdx_files.items():\n",
    "    with open(output_dir / filename, \"w\", encoding=\"utf-8\") as f:\n",
    "        f.write(content)\n",
    "\n",
    "# Zip the output directory\n",
    "# import shutil\n",
    "# zip_path = \"./data/surah-mdx-files.zip\"\n",
    "# shutil.make_archive(zip_path.replace(\".zip\", \"\"), 'zip', output_dir)\n",
    "\n",
    "# print(f\"Generated {len(mdx_files)} MDX files with verses in correct numerical order\")\n",
    "# zip_path\n"
   ]
  }
 ],
 "metadata": {
  "kernelspec": {
   "display_name": "venv",
   "language": "python",
   "name": "python3"
  },
  "language_info": {
   "codemirror_mode": {
    "name": "ipython",
    "version": 3
   },
   "file_extension": ".py",
   "mimetype": "text/x-python",
   "name": "python",
   "nbconvert_exporter": "python",
   "pygments_lexer": "ipython3",
   "version": "3.12.8"
  }
 },
 "nbformat": 4,
 "nbformat_minor": 5
}
