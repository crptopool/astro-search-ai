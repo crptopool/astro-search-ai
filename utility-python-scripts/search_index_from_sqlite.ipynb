{
 "cells": [
  {
   "cell_type": "code",
   "execution_count": null,
   "id": "e727ec3a",
   "metadata": {},
   "outputs": [],
   "source": [
    "import sqlite3\n",
    "import json\n",
    "from pathlib import Path\n",
    "import pandas as pd\n",
    "db_path = \"../directus-quran/Quran_111.db\"\n",
    "conn = sqlite3.connect(db_path)\n",
    "\n",
    "query = \"\"\"\n",
    "SELECT sura_no, sura_name_en, sura_name_roman, ayah_no_surah, ayah_translation_en\n",
    "FROM TheNobleQuran\n",
    "ORDER BY sura_no, ayah_no_surah\n",
    "\"\"\"\n",
    "\n",
    "df = pd.read_sql_query(query, conn)\n",
    "conn.close()\n",
    "\n",
    "# Grouping and formatting for FlexSearch\n",
    "search_index = []\n",
    "for surah_no, group in df.groupby(\"sura_no\"):\n",
    "    surah_name = group[\"sura_name_en\"].iloc[0]\n",
    "    surah_roman = group[\"sura_name_roman\"].iloc[0]\n",
    "    content = \"\\n\\n\".join(\n",
    "        f\"**{row['ayah_no_surah']}** {row['ayah_translation_en']}\" \n",
    "        for _, row in group.iterrows()\n",
    "    )\n",
    "    search_index.append({\n",
    "        \"id\": int(surah_no),\n",
    "        \"title\": f\"Surah {surah_no:03d} - {surah_name} ({surah_roman})\",\n",
    "        \"slug\": f\"/surahs/surah-{surah_no:03d}\",\n",
    "        \"content\": content\n",
    "    })\n",
    "\n",
    "# Save to public directory\n",
    "# output_path = Path(\"astro-quran/public/search/flexsearch-index.json\")\n",
    "output_path = Path(\"../astro-quran/public/search/flexsearch-index.json\")\n",
    "output_path.parent.mkdir(parents=True, exist_ok=True)\n",
    "\n",
    "with open(output_path, \"w\", encoding=\"utf-8\") as f:\n",
    "    json.dump(search_index, f, ensure_ascii=False, indent=2)\n",
    "\n",
    " \n",
    "\n",
    "search_index[:2]  # Preview first 2 entries for verification"
   ]
  }
 ],
 "metadata": {
  "language_info": {
   "name": "python"
  }
 },
 "nbformat": 4,
 "nbformat_minor": 5
}
