{
 "cells": [
  {
   "cell_type": "code",
   "execution_count": 1,
   "id": "c9058b81",
   "metadata": {},
   "outputs": [
    {
     "name": "stdout",
     "output_type": "stream",
     "text": [
      "CSV files found: ['Arabic-Original.csv', 'Bangla.csv', 'Chinese.csv', 'German.csv', 'Italian-Piccardo.csv', 'Japanese.csv', 'Malayalam.csv', 'Norwegian.csv', 'Persian.csv', 'Portuguese.csv', 'Russian.csv', 'Turkish.csv', 'Urdu.csv', 'Uzbek.csv']\n",
      "Database saved to quran_translations1.db\n"
     ]
    }
   ],
   "source": [
    "# Quran CSV to SQLite Consolidation\n",
    "\n",
    "# Cell 1: Imports\n",
    "import os\n",
    "import pandas as pd\n",
    "import sqlite3\n",
    "\n",
    "# Cell 2: Set up paths\n",
    "archive_folder = './csv_data'\n",
    "db_path = 'quran_translations1.db'\n",
    "\n",
    "# Cell 3: List CSV files\n",
    "csv_files = [f for f in os.listdir(archive_folder) if f.endswith('.csv')]\n",
    "print(\"CSV files found:\", csv_files)\n",
    "\n",
    "def read_translation_csv(filepath, lang_col):\n",
    "    rows = []\n",
    "    tried_encodings = ['utf-8-sig', 'latin1']\n",
    "    for enc in tried_encodings:\n",
    "        try:\n",
    "            with open(filepath, encoding=enc) as f:\n",
    "                for line in f:\n",
    "                    parts = line.strip().split('|', 2)\n",
    "                    if len(parts) < 3:\n",
    "                        continue\n",
    "                    chapter, verse, translation = parts\n",
    "                    try:\n",
    "                        chapter = int(chapter)\n",
    "                        verse = int(verse)\n",
    "                    except ValueError:\n",
    "                        continue\n",
    "                    rows.append({\n",
    "                        'chapter_number': chapter,\n",
    "                        'verse_number': verse,\n",
    "                        lang_col: translation\n",
    "                    })\n",
    "            break  # success, exit loop\n",
    "        except UnicodeDecodeError:\n",
    "            rows = []  # reset rows and try next encoding\n",
    "            continue\n",
    "    if not rows:\n",
    "        print(f\"Could not decode {filepath} with tried encodings.\")\n",
    "    return pd.DataFrame(rows)\n",
    "\n",
    "# Cell 4: Read and process CSVs\n",
    "dfs = []\n",
    "for csv_file in csv_files:\n",
    "    lang = os.path.splitext(csv_file)[0].lower().replace(' ', '_') + '_translation'\n",
    "    df = read_translation_csv(os.path.join(archive_folder, csv_file), lang)\n",
    "    dfs.append(df)\n",
    "\n",
    "# Cell 5: Merge DataFrames on chapter_number and verse_number\n",
    "from functools import reduce\n",
    "df_merged = reduce(\n",
    "    lambda left, right: pd.merge(left, right, on=['chapter_number', 'verse_number'], how='outer'),\n",
    "    dfs\n",
    ")\n",
    "df_merged = df_merged.sort_values(['chapter_number', 'verse_number']).reset_index(drop=True)\n",
    "df_merged.head()\n",
    "\n",
    "# Cell 6: Save to SQLite\n",
    "with sqlite3.connect(db_path) as conn:\n",
    "    df_merged.to_sql('quran_translations', conn, if_exists='replace', index=False)\n",
    "print(f\"Database saved to {db_path}\")"
   ]
  },
  {
   "cell_type": "code",
   "execution_count": 5,
   "id": "927315a5",
   "metadata": {},
   "outputs": [
    {
     "name": "stdout",
     "output_type": "stream",
     "text": [
      "quran_metadata table added to database.\n"
     ]
    }
   ],
   "source": [
    "import os\n",
    "import pandas as pd\n",
    "import sqlite3\n",
    "# Cell: Add quran_metadata table from The Quran Dataset.csv\n",
    "\n",
    "db_path = 'quran_translations.db'\n",
    "metadata_csv = os.path.join('.','The Quran Dataset.csv')\n",
    "metadata_columns = [\n",
    "    'surah_no',\n",
    "    'surah_name_en',\n",
    "    'surah_name_ar',\n",
    "    'surah_name_roman',\n",
    "    'ayah_no_surah',\n",
    "    'ayah_no_quran',\n",
    "    'ayah_ar',\n",
    "    'ayah_en',\n",
    "    'ruko_no',\n",
    "    'juz_no',\n",
    "    'manzil_no',\n",
    "    'hizb_quarter',\n",
    "    'total_ayah_surah',\n",
    "    'total_ayah_quran',\n",
    "    'place_of_revelation',\n",
    "    'sajah_ayah',\n",
    "    'sajdah_no',\n",
    "    'no_of_word_ayah',\n",
    "    'list_of_words'\n",
    "]\n",
    "\n",
    "# Try utf-8-sig, fallback to latin1\n",
    "try:\n",
    "    metadata_df = pd.read_csv(metadata_csv, encoding='utf-8-sig', usecols=metadata_columns)\n",
    "except UnicodeDecodeError:\n",
    "    metadata_df = pd.read_csv(metadata_csv, encoding='latin1', usecols=metadata_columns)\n",
    "\n",
    "with sqlite3.connect(db_path) as conn:\n",
    "    metadata_df.to_sql('quran_metadata', conn, if_exists='replace', index=False)\n",
    "\n",
    "print(\"quran_metadata table added to database.\")"
   ]
  }
 ],
 "metadata": {
  "kernelspec": {
   "display_name": "venv",
   "language": "python",
   "name": "python3"
  },
  "language_info": {
   "codemirror_mode": {
    "name": "ipython",
    "version": 3
   },
   "file_extension": ".py",
   "mimetype": "text/x-python",
   "name": "python",
   "nbconvert_exporter": "python",
   "pygments_lexer": "ipython3",
   "version": "3.12.8"
  }
 },
 "nbformat": 4,
 "nbformat_minor": 5
}
